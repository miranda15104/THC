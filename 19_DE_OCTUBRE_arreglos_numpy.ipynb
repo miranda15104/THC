{
  "nbformat": 4,
  "nbformat_minor": 0,
  "metadata": {
    "colab": {
      "provenance": [],
      "authorship_tag": "ABX9TyNvFlrxMCplIzEw0PKh8PRa",
      "include_colab_link": true
    },
    "kernelspec": {
      "name": "python3",
      "display_name": "Python 3"
    },
    "language_info": {
      "name": "python"
    }
  },
  "cells": [
    {
      "cell_type": "markdown",
      "metadata": {
        "id": "view-in-github",
        "colab_type": "text"
      },
      "source": [
        "<a href=\"https://colab.research.google.com/github/miranda15104/THC/blob/main/19_DE_OCTUBRE_arreglos_numpy.ipynb\" target=\"_parent\"><img src=\"https://colab.research.google.com/assets/colab-badge.svg\" alt=\"Open In Colab\"/></a>"
      ]
    },
    {
      "cell_type": "code",
      "source": [
        "import numpy as np\n",
        "arr = np.array([[1,2,3,4,5], [6,7,8,9,10]])\n",
        "\n",
        "print('2do elemento de la 1er Fila: ', arr[0, 1])\n"
      ],
      "metadata": {
        "colab": {
          "base_uri": "https://localhost:8080/"
        },
        "id": "vmNxX-z9KfAu",
        "outputId": "72a2265a-ac17-4b85-d273-e47327965d1a"
      },
      "execution_count": 2,
      "outputs": [
        {
          "output_type": "stream",
          "name": "stdout",
          "text": [
            "2do elemento de la 1er Fila:  2\n"
          ]
        }
      ]
    },
    {
      "cell_type": "code",
      "source": [
        "#suma de elementos de una matriz lista\n",
        "suma=0.0\n",
        "n=[[1,1,1],[1,1,1],[1,1,1]]\n",
        "\n",
        "for i in range(len(n)):\n",
        "  for j in range(len(n)):\n",
        "    suma=suma+n[i][j]\n",
        "print(\"suma de la matriz\", suma)"
      ],
      "metadata": {
        "colab": {
          "base_uri": "https://localhost:8080/"
        },
        "id": "V6OELxGiNkeW",
        "outputId": "fe21a97f-ef3f-42bd-b636-8a6ce0e804f9"
      },
      "execution_count": 38,
      "outputs": [
        {
          "output_type": "stream",
          "name": "stdout",
          "text": [
            "suma de la matriz 9.0\n"
          ]
        }
      ]
    },
    {
      "cell_type": "code",
      "source": [
        "#suma de elementos de una matriz 2\n",
        "A=[1,1,1]\n",
        "B=[1,1,1]\n",
        "C=[1,1,1]\n",
        "print(sum(A)+sum(B)+sum(C))"
      ],
      "metadata": {
        "colab": {
          "base_uri": "https://localhost:8080/"
        },
        "id": "s98_-Q9YSNCF",
        "outputId": "7a1ea1c0-389f-419b-d63b-446550350b41"
      },
      "execution_count": 20,
      "outputs": [
        {
          "output_type": "stream",
          "name": "stdout",
          "text": [
            "9\n"
          ]
        }
      ]
    },
    {
      "cell_type": "code",
      "execution_count": 28,
      "metadata": {
        "colab": {
          "base_uri": "https://localhost:8080/"
        },
        "id": "0TaXDZzOJqts",
        "outputId": "e4d5a395-71db-45a7-bc27-93a3f42d0711"
      },
      "outputs": [
        {
          "output_type": "stream",
          "name": "stdout",
          "text": [
            "9\n"
          ]
        }
      ],
      "source": [
        "#matriz numpy\n",
        "import numpy as np\n",
        "arr = np.array([[1,1,1], [1,1,1], [1,1,1]])\n",
        "s = np.sum(arr)\n",
        "print(s)\n"
      ]
    },
    {
      "cell_type": "code",
      "source": [
        "#matriz numpy 2\n",
        "import numpy as np\n",
        "arr = np.array([[1,1,1], [1,1,1], [1,1,1]])\n",
        "for i in range(len(arr)):\n",
        "#s = np.sum(arr)\n",
        " s=((arr[i]+arr[i]+arr[i]))\n",
        " print(s+s+s)"
      ],
      "metadata": {
        "colab": {
          "base_uri": "https://localhost:8080/"
        },
        "id": "oF3iZH2ETqo8",
        "outputId": "a938d177-effb-4373-e3dc-b1e4bbf57348"
      },
      "execution_count": 32,
      "outputs": [
        {
          "output_type": "stream",
          "name": "stdout",
          "text": [
            "[9 9 9]\n",
            "[9 9 9]\n",
            "[9 9 9]\n"
          ]
        }
      ]
    },
    {
      "cell_type": "code",
      "source": [
        "a=[[1,1,1],[1,1,1],[1,1,1]]\n",
        "b=[[1,1,1],[1,1,1],[1,1,1]]\n",
        "def Productopunto(a,b):\n",
        "  pp=0.0\n",
        "  for i in range(len(a)):\n",
        "    pp=pp+a[i]*b[i]\n",
        "  return pp\n",
        "\n",
        " print(pp)"
      ],
      "metadata": {
        "colab": {
          "base_uri": "https://localhost:8080/",
          "height": 140
        },
        "id": "6A4s_UjWX1a8",
        "outputId": "d8ed9191-0dec-4847-fac9-11918423ca89"
      },
      "execution_count": 6,
      "outputs": [
        {
          "output_type": "error",
          "ename": "IndentationError",
          "evalue": "ignored",
          "traceback": [
            "\u001b[0;36m  File \u001b[0;32m\"<tokenize>\"\u001b[0;36m, line \u001b[0;32m9\u001b[0m\n\u001b[0;31m    print(pp)\u001b[0m\n\u001b[0m    ^\u001b[0m\n\u001b[0;31mIndentationError\u001b[0m\u001b[0;31m:\u001b[0m unindent does not match any outer indentation level\n"
          ]
        }
      ]
    }
  ]
}