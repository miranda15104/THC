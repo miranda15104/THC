{
  "nbformat": 4,
  "nbformat_minor": 0,
  "metadata": {
    "colab": {
      "provenance": [],
      "authorship_tag": "ABX9TyMeTJx92G+6HBcTQT2uNkzt",
      "include_colab_link": true
    },
    "kernelspec": {
      "name": "python3",
      "display_name": "Python 3"
    },
    "language_info": {
      "name": "python"
    }
  },
  "cells": [
    {
      "cell_type": "markdown",
      "metadata": {
        "id": "view-in-github",
        "colab_type": "text"
      },
      "source": [
        "<a href=\"https://colab.research.google.com/github/miranda15104/THC/blob/main/Untitled1.ipynb\" target=\"_parent\"><img src=\"https://colab.research.google.com/assets/colab-badge.svg\" alt=\"Open In Colab\"/></a>"
      ]
    },
    {
      "cell_type": "code",
      "execution_count": 41,
      "metadata": {
        "colab": {
          "base_uri": "https://localhost:8080/"
        },
        "id": "tGnD-KHSrpW0",
        "outputId": "4416ee0c-5d48-48e9-9884-8b0a310c4d9f"
      },
      "outputs": [
        {
          "output_type": "stream",
          "name": "stdout",
          "text": [
            "41\n"
          ]
        }
      ],
      "source": [
        "#el Producto de los vectores\n",
        "def ProductoPunto(U,V):\n",
        "  if len(U)==len(V):\n",
        "    n=len(U)\n",
        "    E=n*[1.1]\n",
        "    x=0\n",
        "    for i in range(n):\n",
        "      E[i]=U[i]*V[i]\n",
        "      x=E[i]+x\n",
        "    print(x)\n",
        "  else:\n",
        "     print(\"no se puede\")\n",
        "ProductoPunto(U=[1,2,6,5],V=[5,2,2,4])"
      ]
    },
    {
      "cell_type": "code",
      "source": [
        "#la potencia de cada vector (n=3)\n",
        "def potencia(V):\n",
        " n=len(V)\n",
        " E=n*[1.1]\n",
        " x=0\n",
        " for i in range(n):\n",
        "  E[i]=V[i]*V[i]*V[i]\n",
        "  x=E[i]+x\n",
        "  print(x)\n",
        "potencia(V=[5,1])"
      ],
      "metadata": {
        "id": "Rootctb7r1-L",
        "colab": {
          "base_uri": "https://localhost:8080/"
        },
        "outputId": "d3b5e7e3-3850-4ea7-a376-c832bf7aa2a9"
      },
      "execution_count": 45,
      "outputs": [
        {
          "output_type": "stream",
          "name": "stdout",
          "text": [
            "125\n",
            "126\n"
          ]
        }
      ]
    },
    {
      "cell_type": "code",
      "source": [
        "#el producto escalar\n",
        "L1=[5,9]\n",
        "L2=[9,4]\n",
        "def productoEScalar(L1,L2):\n",
        "  if len(L1)==len(L2):\n",
        "    pe=0\n",
        "    for i in range(len(L1)):\n",
        "      pe+=L1[i]*L2[i]\n",
        "    return(pe)\n",
        "  else:\n",
        "\n",
        "       return(\"No se puede\")\n",
        "a= productoEScalar(L1,L2)\n",
        "print(a)"
      ],
      "metadata": {
        "colab": {
          "base_uri": "https://localhost:8080/"
        },
        "id": "XHclyD50x8FE",
        "outputId": "3173f0e7-ae50-4b88-d50e-43caeb532107"
      },
      "execution_count": null,
      "outputs": [
        {
          "output_type": "stream",
          "name": "stdout",
          "text": [
            "81\n"
          ]
        }
      ]
    }
  ]
}