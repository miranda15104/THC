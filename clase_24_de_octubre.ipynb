{
  "nbformat": 4,
  "nbformat_minor": 0,
  "metadata": {
    "colab": {
      "provenance": [],
      "authorship_tag": "ABX9TyMEwlYjxpOgOhdLpD0GrJ0k",
      "include_colab_link": true
    },
    "kernelspec": {
      "name": "python3",
      "display_name": "Python 3"
    },
    "language_info": {
      "name": "python"
    }
  },
  "cells": [
    {
      "cell_type": "markdown",
      "metadata": {
        "id": "view-in-github",
        "colab_type": "text"
      },
      "source": [
        "<a href=\"https://colab.research.google.com/github/miranda15104/THC/blob/main/clase_24_de_octubre.ipynb\" target=\"_parent\"><img src=\"https://colab.research.google.com/assets/colab-badge.svg\" alt=\"Open In Colab\"/></a>"
      ]
    },
    {
      "cell_type": "markdown",
      "source": [
        "https://github.com/seismomat/HerramientasComputacionales/blob/main/NivelIntermedio/Modulos_Y_Bibliotecas/Numpy.ipynb"
      ],
      "metadata": {
        "id": "K3KlSIi81vvV"
      }
    },
    {
      "cell_type": "code",
      "execution_count": null,
      "metadata": {
        "colab": {
          "base_uri": "https://localhost:8080/"
        },
        "id": "9BCcWGmm1vGV",
        "outputId": "9d16d532-9ec2-4032-ef24-b4b40eaad3d8"
      },
      "outputs": [
        {
          "output_type": "stream",
          "name": "stdout",
          "text": [
            "[2 3 4 5]\n",
            "[1 2 3 4]\n",
            "[2 3 4 5 6]\n",
            "[2 3 4 5 6 7]\n",
            "[1 2 3 4 5 6 7]\n",
            "[1 2 3 4]\n",
            "[5 6]\n",
            "[7]\n"
          ]
        }
      ],
      "source": [
        "import numpy as np\n",
        "arr = np.array([1, 2, 3, 4, 5, 6, 7])\n",
        "\n",
        "print(arr[1:5])\n",
        "print(arr [0:4])\n",
        "print(arr [1:6])\n",
        "print(arr [1:])\n",
        "print(arr [0:])\n",
        "print(arr [:4])\n",
        "print(arr[-3:-1])  #no toma el segundo\n",
        "print(arr[-1:])"
      ]
    },
    {
      "cell_type": "code",
      "source": [
        "import numpy as np\n",
        "arr = np.array([1, 2, 3, 4, 5, 6, 7,8,9,10])\n",
        "\n",
        "print(arr[1:5:2])  #arreglo[inicio:fin:paso]\n",
        "print(arr[::3])\n",
        "print(arr[0::])\n",
        "print(arr[:0:])"
      ],
      "metadata": {
        "colab": {
          "base_uri": "https://localhost:8080/"
        },
        "id": "HlVfQWoV245V",
        "outputId": "166a2bdf-3842-41d1-f89b-381b3447419f"
      },
      "execution_count": null,
      "outputs": [
        {
          "output_type": "stream",
          "name": "stdout",
          "text": [
            "[2 4]\n",
            "[ 1  4  7 10]\n",
            "[ 1  2  3  4  5  6  7  8  9 10]\n",
            "[]\n"
          ]
        }
      ]
    },
    {
      "cell_type": "code",
      "source": [
        "import numpy as np\n",
        "arr = np.array([[1, 2, 3, 4, 5], [6, 7, 8, 9, 10]])\n",
        "\n",
        "print(arr[1, 1:4])\n",
        "print(arr[1, :])\n",
        "print(arr[0:2,2])\n",
        "print(arr[0:1,2])   #primero renglones #segunda columnas\n",
        "print(arr[0:2,3])\n",
        "print(arr[0,3]) #siempre la veo con los santos una m4 y un lambo"
      ],
      "metadata": {
        "colab": {
          "base_uri": "https://localhost:8080/"
        },
        "id": "iLLt-66c48YW",
        "outputId": "73133d27-4aa4-4ae4-acd5-958097f3ca95"
      },
      "execution_count": null,
      "outputs": [
        {
          "output_type": "stream",
          "name": "stdout",
          "text": [
            "[7 8 9]\n",
            "[ 6  7  8  9 10]\n",
            "[3 8]\n",
            "[3]\n",
            "[4 9]\n",
            "4\n"
          ]
        }
      ]
    },
    {
      "cell_type": "code",
      "source": [
        "import numpy as np\n",
        "arr = np.array([[1, 2, 3, 4, 5], [6, 7, 8, 9, 10]])\n",
        "\n",
        "print(arr[0:2, 1:4])\n",
        "print(arr[0:1, 2:6])"
      ],
      "metadata": {
        "colab": {
          "base_uri": "https://localhost:8080/"
        },
        "id": "W1pbgDVk8Xqw",
        "outputId": "9409362d-3927-4af1-a694-7843937ece1e"
      },
      "execution_count": null,
      "outputs": [
        {
          "output_type": "stream",
          "name": "stdout",
          "text": [
            "[[2 3 4]\n",
            " [7 8 9]]\n",
            "[[3 4 5]]\n"
          ]
        }
      ]
    },
    {
      "cell_type": "code",
      "source": [
        "import numpy as np\n",
        "arr = np.array([1, 2, 3, 4, 5, 4, 4])\n",
        "\n",
        "x = np.where(arr == 4)\n",
        "\n",
        "print(x)\n"
      ],
      "metadata": {
        "colab": {
          "base_uri": "https://localhost:8080/"
        },
        "id": "aM7qm26T99TI",
        "outputId": "0c3eb1c2-7e40-4481-fb85-25867f35e2eb"
      },
      "execution_count": null,
      "outputs": [
        {
          "output_type": "stream",
          "name": "stdout",
          "text": [
            "(array([3, 5, 6]),)\n"
          ]
        }
      ]
    },
    {
      "cell_type": "code",
      "source": [
        "import numpy as np\n",
        "arr = np.array([1, 2, 3, 4, 5, 6, 7, 8]) #********.\n",
        "\n",
        "x = np.where(arr %2 == 0)\n",
        "\n",
        "print(x)"
      ],
      "metadata": {
        "colab": {
          "base_uri": "https://localhost:8080/"
        },
        "id": "kWrQuhOT-HxX",
        "outputId": "2cf625cf-d7e9-4182-e2c9-0ab3edaece41"
      },
      "execution_count": null,
      "outputs": [
        {
          "output_type": "stream",
          "name": "stdout",
          "text": [
            "(array([1, 3, 5, 7]),)\n"
          ]
        }
      ]
    },
    {
      "cell_type": "code",
      "source": [
        "import numpy as np  #***************\n",
        "arr = np.array([1, 2, 3, 4, 5, 6, 7, 8])\n",
        "\n",
        "x = np.searchsorted(arr, 7, side='right')\n",
        "\n",
        "print(x)"
      ],
      "metadata": {
        "colab": {
          "base_uri": "https://localhost:8080/"
        },
        "id": "buPYVLP3-aEv",
        "outputId": "f4dd67ad-2167-4ec7-c913-3dba2f25c903"
      },
      "execution_count": null,
      "outputs": [
        {
          "output_type": "stream",
          "name": "stdout",
          "text": [
            "7\n"
          ]
        }
      ]
    },
    {
      "cell_type": "code",
      "source": [
        "import numpy as np\n",
        "arr = np.array([41, 42, 43, 44])\n",
        "\n",
        "filter_arr = arr > 42\n",
        "\n",
        "newarr = arr[filter_arr]\n",
        "\n",
        "print(filter_arr)\n",
        "print(newarr)"
      ],
      "metadata": {
        "colab": {
          "base_uri": "https://localhost:8080/"
        },
        "id": "9_nl_ypv-xI3",
        "outputId": "4474d4aa-15e9-442c-dd78-8d7b6ae29d65"
      },
      "execution_count": null,
      "outputs": [
        {
          "output_type": "stream",
          "name": "stdout",
          "text": [
            "[False False  True  True]\n",
            "[43 44]\n"
          ]
        }
      ]
    },
    {
      "cell_type": "code",
      "source": [
        "import numpy as np\n",
        "arr = np.array([41, 42, 43, 44])\n",
        "\n",
        "filter_arr = arr %2 ==0\n",
        "\n",
        "newarr = arr[filter_arr]\n",
        "\n",
        "print(filter_arr)\n",
        "print(newarr)"
      ],
      "metadata": {
        "colab": {
          "base_uri": "https://localhost:8080/"
        },
        "id": "iUtqDX2e_ERA",
        "outputId": "cb19f843-957c-455f-e1da-d223b9c9d7b1"
      },
      "execution_count": null,
      "outputs": [
        {
          "output_type": "stream",
          "name": "stdout",
          "text": [
            "[False  True False  True]\n",
            "[42 44]\n"
          ]
        }
      ]
    },
    {
      "cell_type": "code",
      "source": [
        "import numpy as np  #suma\n",
        "x=np.array([1,2,3])\n",
        "y=np.array([4,5,6])\n",
        "suma=x+y\n",
        "resta=x-y\n",
        "multiplicacion=x*y\n",
        "divi=x/y\n",
        "\n",
        "print(f\"la suma {suma}\")\n",
        "print(f\"la resta {resta}\")\n",
        "print(f\"la multiplicación {multiplicacion}\")\n",
        "print(f\"la divisición {divi}\")"
      ],
      "metadata": {
        "colab": {
          "base_uri": "https://localhost:8080/"
        },
        "id": "oft4zoaB_w5X",
        "outputId": "0ccd38dc-543f-4ab7-9a55-339264fc2bb3"
      },
      "execution_count": null,
      "outputs": [
        {
          "output_type": "stream",
          "name": "stdout",
          "text": [
            "la suma [5 7 9]\n",
            "la resta [-3 -3 -3]\n",
            "la multiplicación [ 4 10 18]\n",
            "la divisición [0.25 0.4  0.5 ]\n"
          ]
        }
      ]
    },
    {
      "cell_type": "code",
      "source": [
        "import numpy as np  #pi\n",
        "print(f\"Numero pi { np.pi}\")"
      ],
      "metadata": {
        "colab": {
          "base_uri": "https://localhost:8080/"
        },
        "id": "8v5LjdB9CemX",
        "outputId": "04000803-5dd8-4f97-be4b-a091f30b1ef7"
      },
      "execution_count": null,
      "outputs": [
        {
          "output_type": "stream",
          "name": "stdout",
          "text": [
            "Numero pi 3.141592653589793\n"
          ]
        }
      ]
    },
    {
      "cell_type": "code",
      "source": [
        "import numpy as np\n",
        "angulos=np.array([0,np.pi/2, np.pi])\n",
        "seno=np.sin(angulos)\n",
        "print(f\"los senos {seno}\")\n",
        "print(f\"De los angulos {angulos}\")"
      ],
      "metadata": {
        "colab": {
          "base_uri": "https://localhost:8080/"
        },
        "id": "YdwZxyMLC1KZ",
        "outputId": "961f38a9-f5cc-45dc-9ba0-a800d58fe52f"
      },
      "execution_count": null,
      "outputs": [
        {
          "output_type": "stream",
          "name": "stdout",
          "text": [
            "los senos [0.0000000e+00 1.0000000e+00 1.2246468e-16]\n",
            "De los angulos [0.         1.57079633 3.14159265]\n"
          ]
        }
      ]
    },
    {
      "cell_type": "code",
      "source": [
        "import numpy as np\n",
        "angulos=np.array([0,np.pi/2, np.pi])\n",
        "coseno=np.cos(angulos)\n",
        "print(f\"los senos {coseno}\")\n",
        "print(f\"De los angulos {angulos}\")"
      ],
      "metadata": {
        "colab": {
          "base_uri": "https://localhost:8080/"
        },
        "id": "uw5xh9dzD1r4",
        "outputId": "efbb66e4-cb83-4280-81bd-0292a03b072b"
      },
      "execution_count": null,
      "outputs": [
        {
          "output_type": "stream",
          "name": "stdout",
          "text": [
            "los senos [ 1.000000e+00  6.123234e-17 -1.000000e+00]\n",
            "De los angulos [0.         1.57079633 3.14159265]\n"
          ]
        }
      ]
    },
    {
      "cell_type": "code",
      "source": [
        "import numpy as np\n",
        "x=np.array(list(range(1,9)))\n",
        "print(x)\n",
        "matriz= x.reshape(4,2).shape\n",
        "matriz\n",
        "\n"
      ],
      "metadata": {
        "colab": {
          "base_uri": "https://localhost:8080/"
        },
        "id": "aMjTDImdEbt4",
        "outputId": "cf6ff52f-d2fa-4d2f-a621-e0ec980d2c5f"
      },
      "execution_count": null,
      "outputs": [
        {
          "output_type": "stream",
          "name": "stdout",
          "text": [
            "[1 2 3 4 5 6 7 8]\n"
          ]
        },
        {
          "output_type": "execute_result",
          "data": {
            "text/plain": [
              "(4, 2)"
            ]
          },
          "metadata": {},
          "execution_count": 19
        }
      ]
    },
    {
      "cell_type": "code",
      "source": [
        "np.random.uniform(0,1,6)\n"
      ],
      "metadata": {
        "colab": {
          "base_uri": "https://localhost:8080/"
        },
        "id": "X_ZHgRyjGNSg",
        "outputId": "2ab3d44b-d71f-428a-c094-66e7d516ec3f"
      },
      "execution_count": null,
      "outputs": [
        {
          "output_type": "execute_result",
          "data": {
            "text/plain": [
              "array([0.08055362, 0.08901275, 0.01709537, 0.14048754, 0.18043166,\n",
              "       0.47330357])"
            ]
          },
          "metadata": {},
          "execution_count": 21
        }
      ]
    },
    {
      "cell_type": "code",
      "source": [
        "np.random.uniform(0,1,size=1)"
      ],
      "metadata": {
        "colab": {
          "base_uri": "https://localhost:8080/"
        },
        "id": "-vLmV06BHAj-",
        "outputId": "331dd9a5-06c3-4754-cd7a-882eca7b2355"
      },
      "execution_count": null,
      "outputs": [
        {
          "output_type": "execute_result",
          "data": {
            "text/plain": [
              "array([0.7130579])"
            ]
          },
          "metadata": {},
          "execution_count": 23
        }
      ]
    },
    {
      "cell_type": "code",
      "source": [
        "x=np.linspace(1,2,4)"
      ],
      "metadata": {
        "id": "ncvXowo1GxfH"
      },
      "execution_count": null,
      "outputs": []
    },
    {
      "cell_type": "code",
      "source": [
        "\n",
        "import numpy as np\n",
        "arr = np.array([1, 2, 3, 4, 5, 6, 7,8,9,10])\n",
        "\n",
        "print(arr[0:])\n",
        "x=int(input(\"escogue un numero de la lista anterior \"))\n",
        "i=0\n",
        "while i < 4:\n",
        "  y=np.random.randint(1,10, size=1)\n",
        "  print(\"¿este es tu numero?\", y)\n",
        "  i+=1\n",
        "if i==x:\n",
        "  print(\"este es tu numero\")\n",
        "\n"
      ],
      "metadata": {
        "colab": {
          "base_uri": "https://localhost:8080/"
        },
        "id": "cytZpeEiHM1e",
        "outputId": "c89875db-80a6-4569-b704-2f445033fda7"
      },
      "execution_count": null,
      "outputs": [
        {
          "output_type": "stream",
          "name": "stdout",
          "text": [
            "[ 1  2  3  4  5  6  7  8  9 10]\n",
            "escogue un numero de la lista anterior 3\n",
            "¿este es tu numero? [5]\n",
            "¿este es tu numero? [1]\n",
            "¿este es tu numero? [1]\n",
            "¿este es tu numero? [2]\n"
          ]
        }
      ]
    },
    {
      "cell_type": "code",
      "source": [
        "import numpy as np\n",
        "arr = np.array([1, 2, 3, 4, 5, 6, 7,8,9,10])\n",
        "\n",
        "print(arr[0:])\n",
        "NUM=int(input(\"escogue un numero de la lista anterior \"))\n",
        "\n",
        "for x in arr:\n",
        "  print(NUM)\n",
        "  if x == \"NUM\":\n",
        "    break\n",
        "\n"
      ],
      "metadata": {
        "colab": {
          "base_uri": "https://localhost:8080/"
        },
        "id": "hAXEEspoKIIo",
        "outputId": "628e30f6-7b54-4e8c-a290-13e78995fa79"
      },
      "execution_count": null,
      "outputs": [
        {
          "output_type": "stream",
          "name": "stdout",
          "text": [
            "[ 1  2  3  4  5  6  7  8  9 10]\n",
            "escogue un numero de la lista anterior 4\n",
            "4\n",
            "4\n",
            "4\n",
            "4\n",
            "4\n",
            "4\n",
            "4\n",
            "4\n",
            "4\n",
            "4\n"
          ]
        }
      ]
    }
  ]
}