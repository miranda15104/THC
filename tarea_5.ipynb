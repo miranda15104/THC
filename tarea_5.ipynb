{
  "nbformat": 4,
  "nbformat_minor": 0,
  "metadata": {
    "colab": {
      "provenance": []
    },
    "kernelspec": {
      "name": "python3",
      "display_name": "Python 3"
    },
    "language_info": {
      "name": "python"
    }
  },
  "cells": [
    {
      "cell_type": "code",
      "execution_count": 14,
      "metadata": {
        "colab": {
          "base_uri": "https://localhost:8080/"
        },
        "id": "s_k3JVWXS9Pq",
        "outputId": "a916e684-d06f-42cb-86c8-808e3c58a454"
      },
      "outputs": [
        {
          "output_type": "stream",
          "name": "stdout",
          "text": [
            "introduce 1 numeros: 5\n",
            "introduce 1 numeros: 8\n",
            "introduce 1 numeros: 9\n",
            "introduce 1 numeros: 14\n",
            "introduce 1 numeros: 5\n",
            "Tu promedio es de: 8.2\n",
            "[5, 8, 9, 14, 5]\n"
          ]
        }
      ],
      "source": [
        "#Declarar una lista con 5 números.\n",
        "# Posteriormente pedirle al usuario que ingrese 5 números los cuales se deberán guardar en la lista.\n",
        "#Finalmente, obtenga el promedio de los valores en la lista.\n",
        "\n",
        "\n",
        "numeros = []\n",
        "for i in range(5):\n",
        "  numeros.append(int(input(\"introduce 1 numeros: \")))\n",
        "\n",
        "\n",
        "promedio = 0\n",
        "for i in numeros:\n",
        "        promedio+=i\n",
        "average = promedio / len(numeros)\n",
        "print(\"Tu promedio es de:\",average)\n",
        "print(numeros)"
      ]
    },
    {
      "cell_type": "code",
      "source": [
        "#Escribe un programa que encuentre el valor máximo y mínimo en una lista de números.\n",
        "numeros=[5,20,15,6,14,85,96,5425,1,3]\n",
        "min = max = numeros[0]\n",
        "for numero in numeros:\n",
        "    if numero < min:\n",
        "        min = numero\n",
        "    elif numero > max:\n",
        "        max = numero\n",
        "print(\"El mínimo es \" + str(min))\n",
        "print(\"El máximo es \" + str(max))"
      ],
      "metadata": {
        "colab": {
          "base_uri": "https://localhost:8080/"
        },
        "id": "kUoNwo45c3Vc",
        "outputId": "bc85ce09-ccf8-47e6-d1e8-56953fb4930f"
      },
      "execution_count": 15,
      "outputs": [
        {
          "output_type": "stream",
          "name": "stdout",
          "text": [
            "El mínimo es 1\n",
            "El máximo es 5425\n"
          ]
        }
      ]
    },
    {
      "cell_type": "code",
      "source": [
        "def lista_par_impar(numeros):\n",
        "    lista_par = []\n",
        "    lista_impar = []\n",
        "\n",
        "    for x in list: # acá debes directamente recorrer la lista\n",
        "        if x % 2 == 0:\n",
        "            lista_par.append(x)\n",
        "        else:\n",
        "            lista_impar.append(x)\n",
        "\n",
        "    return lista_par, lista_impar\n",
        "\n",
        "numeros = [1,2,3,4,6,58,9,21]\n",
        "print(\"lista par e impar\", lista_par_impar(list))"
      ],
      "metadata": {
        "colab": {
          "base_uri": "https://localhost:8080/"
        },
        "id": "P18M743Sy6Kb",
        "outputId": "4b927257-057d-4305-d724-22cc90cff207"
      },
      "execution_count": 47,
      "outputs": [
        {
          "output_type": "stream",
          "name": "stdout",
          "text": [
            "lista par e impar ([2, 4, 6, 58, 2, 4], [1, 3, 5, 9, 21])\n"
          ]
        }
      ]
    }
  ]
}