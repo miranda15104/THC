{
  "nbformat": 4,
  "nbformat_minor": 0,
  "metadata": {
    "colab": {
      "provenance": [],
      "authorship_tag": "ABX9TyM2EusWRHWS3i2Q9I6Dw3Jc",
      "include_colab_link": true
    },
    "kernelspec": {
      "name": "python3",
      "display_name": "Python 3"
    },
    "language_info": {
      "name": "python"
    }
  },
  "cells": [
    {
      "cell_type": "markdown",
      "metadata": {
        "id": "view-in-github",
        "colab_type": "text"
      },
      "source": [
        "<a href=\"https://colab.research.google.com/github/miranda15104/THC/blob/main/TAREAS_CLASE_10_OCTUBRE.ipynb\" target=\"_parent\"><img src=\"https://colab.research.google.com/assets/colab-badge.svg\" alt=\"Open In Colab\"/></a>"
      ]
    },
    {
      "cell_type": "code",
      "execution_count": 1,
      "metadata": {
        "colab": {
          "base_uri": "https://localhost:8080/"
        },
        "id": "imttoOT5kAGX",
        "outputId": "a6d620c5-efe6-459e-ce91-2c6b9e45550d"
      },
      "outputs": [
        {
          "output_type": "stream",
          "name": "stdout",
          "text": [
            "{'brand': 'Ford', 'model': 'Mustang', 'year': 2020}\n"
          ]
        }
      ],
      "source": [
        "thisdict={\n",
        "    \"brand\": \"Ford\",\n",
        "    \"model\":\"Mustang\",\n",
        "    \"year\":1964,\n",
        "    \"year\":2020\n",
        "}\n",
        "print(thisdict)"
      ]
    },
    {
      "cell_type": "code",
      "source": [
        "diccionario={\"python\":2.7, \"zope\":2.13, \"plone\":5.7}\n",
        "l=[]\n",
        "for i in diccionario.keys():\n",
        "  print(i)\n",
        "  l.append(diccionario[i])\n",
        "print(l)"
      ],
      "metadata": {
        "colab": {
          "base_uri": "https://localhost:8080/"
        },
        "id": "NA-Baj-7kYSr",
        "outputId": "42b0c35d-378b-4b64-cdd7-a592ac07f2a7"
      },
      "execution_count": 2,
      "outputs": [
        {
          "output_type": "stream",
          "name": "stdout",
          "text": [
            "python\n",
            "zope\n",
            "plone\n",
            "[2.7, 2.13, 5.7]\n"
          ]
        }
      ]
    },
    {
      "cell_type": "code",
      "source": [
        "import pandas as pd\n",
        "#crear un diccionario con datos\n",
        "datos={\n",
        "    \"nombre\":[\"juan\",\"maria\",\"pedro\", \"Luisa\"],\n",
        "    \"edad\":[25,28,22,30],\n",
        "    \"ciudad\":[\"madrid\", \"barcelon\",\"valencis\", \"sevilla\"]\n",
        "}\n",
        "#crear un DatFrama a partir del diccionario\n",
        "dataframe = pd.DataFrame(datos)\n",
        "\n",
        "#mostrar el Data Frame\n",
        "print(dataframe)"
      ],
      "metadata": {
        "colab": {
          "base_uri": "https://localhost:8080/"
        },
        "id": "3tHojUNlkbgd",
        "outputId": "b115aca2-0592-4a85-ed90-40888493f6d2"
      },
      "execution_count": 3,
      "outputs": [
        {
          "output_type": "stream",
          "name": "stdout",
          "text": [
            "  nombre  edad    ciudad\n",
            "0   juan    25    madrid\n",
            "1  maria    28  barcelon\n",
            "2  pedro    22  valencis\n",
            "3  Luisa    30   sevilla\n"
          ]
        }
      ]
    },
    {
      "cell_type": "code",
      "source": [
        "frutas=(\"manzanas\",\"uvas\",\"duraznos\",\"cerezas\")\n",
        "for fruta in frutas:\n",
        "  print(fruta)"
      ],
      "metadata": {
        "colab": {
          "base_uri": "https://localhost:8080/"
        },
        "id": "JG2Re3i7ke4P",
        "outputId": "0eb94039-b1de-497c-c96d-ad4897b693fb"
      },
      "execution_count": 4,
      "outputs": [
        {
          "output_type": "stream",
          "name": "stdout",
          "text": [
            "manzanas\n",
            "uvas\n",
            "duraznos\n",
            "cerezas\n"
          ]
        }
      ]
    },
    {
      "cell_type": "code",
      "source": [
        "frutas=(\"manzanas\",\"uvas\",\"duraznos\",\"cerezas\")\n",
        "if\"manzanas\" in frutas:\n",
        "  print(\"si, las manzanas está en la tupla.\")"
      ],
      "metadata": {
        "colab": {
          "base_uri": "https://localhost:8080/"
        },
        "id": "1GHUCh68kiKS",
        "outputId": "6fe29c29-bc69-49e2-81bf-38841e8cb29d"
      },
      "execution_count": 5,
      "outputs": [
        {
          "output_type": "stream",
          "name": "stdout",
          "text": [
            "si, las manzanas está en la tupla.\n"
          ]
        }
      ]
    },
    {
      "cell_type": "code",
      "source": [
        "def miFuncion():\n",
        "  print(\"Hola, te saludo desde la funcion\")\n",
        "miFuncion()"
      ],
      "metadata": {
        "colab": {
          "base_uri": "https://localhost:8080/"
        },
        "id": "LpXASjzxkiQ4",
        "outputId": "c07a99c6-9272-4bc3-c61a-afd2fcdd13ae"
      },
      "execution_count": 6,
      "outputs": [
        {
          "output_type": "stream",
          "name": "stdout",
          "text": [
            "Hola, te saludo desde la funcion\n"
          ]
        }
      ]
    },
    {
      "cell_type": "code",
      "source": [
        "def miFuncionNueva(fname):\n",
        "  print(\"Hola \" +fname+\" te saludo desde la funcion\")\n",
        "\n",
        "miFuncionNueva(\"Miranda\")"
      ],
      "metadata": {
        "colab": {
          "base_uri": "https://localhost:8080/"
        },
        "id": "nufuxKDBkua6",
        "outputId": "80e0e30f-5321-4df3-92af-6b108e12e5ac"
      },
      "execution_count": 7,
      "outputs": [
        {
          "output_type": "stream",
          "name": "stdout",
          "text": [
            "Hola Miranda te saludo desde la funcion\n"
          ]
        }
      ]
    },
    {
      "cell_type": "code",
      "source": [
        "def Nombre(fname,lname):\n",
        " print(\"Hola \" +fname+\" \"+lname+\" te saludo desde la función\")\n",
        "Nombre(\"Miranda\", \"CC\")"
      ],
      "metadata": {
        "colab": {
          "base_uri": "https://localhost:8080/"
        },
        "id": "Ks9GqsivkyFq",
        "outputId": "7834d89b-b6f9-423c-9882-3c340682c997"
      },
      "execution_count": 8,
      "outputs": [
        {
          "output_type": "stream",
          "name": "stdout",
          "text": [
            "Hola Miranda CC te saludo desde la función\n"
          ]
        }
      ]
    },
    {
      "cell_type": "code",
      "source": [
        "def miFuncion (*kids):\n",
        "  print(\"el niño menor es \"+kids[3])\n",
        "miFuncion(\"Josue\", \"Daniel\", \"Marco\", \"Isacc\")"
      ],
      "metadata": {
        "colab": {
          "base_uri": "https://localhost:8080/"
        },
        "id": "x4Rph5Jyk2lo",
        "outputId": "2f471fb2-72c3-4171-ae12-3dfb4b9d0a89"
      },
      "execution_count": 9,
      "outputs": [
        {
          "output_type": "stream",
          "name": "stdout",
          "text": [
            "el niño menor es Isacc\n"
          ]
        }
      ]
    },
    {
      "cell_type": "code",
      "source": [
        "def miFuncion (niño3,niño2,niño1):\n",
        "  print(\"El niño menor es \"+niño3)\n",
        "miFuncion(niño1=\"Josue\", niño2=\"Daniel\", niño3=\"Marco\")"
      ],
      "metadata": {
        "colab": {
          "base_uri": "https://localhost:8080/"
        },
        "id": "zJFU7qAwk5Wa",
        "outputId": "b4394784-93ba-44b9-fab6-3ec3bccd7261"
      },
      "execution_count": 10,
      "outputs": [
        {
          "output_type": "stream",
          "name": "stdout",
          "text": [
            "El niño menor es Marco\n"
          ]
        }
      ]
    },
    {
      "cell_type": "code",
      "source": [
        "A=(0,1,2,3,4)\n",
        "B=(0,1,2,3,4,)\n",
        "def suma_vectores(A, B):\n",
        "  if len(A)==len(B):\n",
        "   n=len(A)\n",
        "   C=n*[0.0]\n",
        "   for i in range(n):\n",
        "    C[i]=A[i]+B[i]\n",
        "   print(C)\n",
        "  else:\n",
        "    print(\"no se suman\")\n",
        "suma_vectores(A,B)"
      ],
      "metadata": {
        "colab": {
          "base_uri": "https://localhost:8080/"
        },
        "id": "UiBX36Srk8pk",
        "outputId": "aeb37559-ff22-41a0-9e5f-d1eb3808b9a8"
      },
      "execution_count": 11,
      "outputs": [
        {
          "output_type": "stream",
          "name": "stdout",
          "text": [
            "[0, 2, 4, 6, 8]\n"
          ]
        }
      ]
    }
  ]
}