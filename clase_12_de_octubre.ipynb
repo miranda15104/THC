{
  "nbformat": 4,
  "nbformat_minor": 0,
  "metadata": {
    "colab": {
      "provenance": [],
      "authorship_tag": "ABX9TyOyStldgb6CG86RFt/2Hur0",
      "include_colab_link": true
    },
    "kernelspec": {
      "name": "python3",
      "display_name": "Python 3"
    },
    "language_info": {
      "name": "python"
    }
  },
  "cells": [
    {
      "cell_type": "markdown",
      "metadata": {
        "id": "view-in-github",
        "colab_type": "text"
      },
      "source": [
        "<a href=\"https://colab.research.google.com/github/miranda15104/THC/blob/main/clase_12_de_octubre.ipynb\" target=\"_parent\"><img src=\"https://colab.research.google.com/assets/colab-badge.svg\" alt=\"Open In Colab\"/></a>"
      ]
    },
    {
      "cell_type": "code",
      "source": [
        "#este lo hice pero con saltos\n",
        "def numeros():\n",
        "    pares = []\n",
        "    for i in range(2,102,2):\n",
        "        pares.append(i)\n",
        "    return pares\n",
        "\n",
        "pares_del_1_al_100 = numeros()\n",
        "print(pares_del_1_al_100)\n"
      ],
      "metadata": {
        "colab": {
          "base_uri": "https://localhost:8080/"
        },
        "id": "Ni_oIBPcp1lG",
        "outputId": "cdac955b-b868-4a90-85d5-eb1aef4a4bac"
      },
      "execution_count": 26,
      "outputs": [
        {
          "output_type": "stream",
          "name": "stdout",
          "text": [
            "[2, 4, 6, 8, 10, 12, 14, 16, 18, 20, 22, 24, 26, 28, 30, 32, 34, 36, 38, 40, 42, 44, 46, 48, 50, 52, 54, 56, 58, 60, 62, 64, 66, 68, 70, 72, 74, 76, 78, 80, 82, 84, 86, 88, 90, 92, 94, 96, 98, 100]\n"
          ]
        }
      ]
    },
    {
      "cell_type": "code",
      "source": [
        "#este lo hice sin filter\n",
        "valores = []\n",
        "for valor in range(102):\n",
        "    if valor % 2 == 0:\n",
        "        pares.append(valor)\n",
        "print(pares)"
      ],
      "metadata": {
        "colab": {
          "base_uri": "https://localhost:8080/"
        },
        "id": "tP6uwcDssRHc",
        "outputId": "29a1e4b6-e917-426e-ea93-d409c1f96c28"
      },
      "execution_count": 24,
      "outputs": [
        {
          "output_type": "stream",
          "name": "stdout",
          "text": [
            "[2, 4, 6, 8, 0, 2, 4, 6, 8, 10, 12, 14, 16, 18, 20, 22, 24, 26, 28, 30, 32, 34, 36, 38, 40, 42, 44, 46, 48, 50, 52, 54, 56, 58, 60, 62, 64, 66, 68, 70, 72, 74, 76, 78, 80, 82, 84, 86, 88, 90, 92, 94, 96, 98, 100]\n"
          ]
        }
      ]
    },
    {
      "cell_type": "code",
      "source": [
        "#valores pares del 1 al 100, este si es como lo pidio creo\n",
        "def numeros():\n",
        "  valores = []\n",
        "  for i in range(102):\n",
        "    pares = list(filter(lambda x : x % 2 == 0, valores))\n",
        "print(pares)"
      ],
      "metadata": {
        "colab": {
          "base_uri": "https://localhost:8080/"
        },
        "id": "upOCn8pqnHVU",
        "outputId": "9451b8f5-5120-4af4-a217-03b397220dcc"
      },
      "execution_count": 27,
      "outputs": [
        {
          "output_type": "stream",
          "name": "stdout",
          "text": [
            "[2, 4, 6, 8, 0, 2, 4, 6, 8, 10, 12, 14, 16, 18, 20, 22, 24, 26, 28, 30, 32, 34, 36, 38, 40, 42, 44, 46, 48, 50, 52, 54, 56, 58, 60, 62, 64, 66, 68, 70, 72, 74, 76, 78, 80, 82, 84, 86, 88, 90, 92, 94, 96, 98, 100]\n"
          ]
        }
      ]
    },
    {
      "cell_type": "code",
      "source": [
        "#contraseña\n",
        "ejemplo=\"miranda\"\n",
        "ejemplo = ejemplo.replace('a','$')\n",
        "ejemplo = ejemplo.replace('m','@')\n",
        "print(ejemplo)"
      ],
      "metadata": {
        "colab": {
          "base_uri": "https://localhost:8080/"
        },
        "id": "cxcqRgnQx6_G",
        "outputId": "d601b77e-ff1e-4490-9e0e-09eb34cf4115"
      },
      "execution_count": 29,
      "outputs": [
        {
          "output_type": "stream",
          "name": "stdout",
          "text": [
            "@ir$nd$\n"
          ]
        }
      ]
    },
    {
      "cell_type": "code",
      "source": [
        "#suma de matrices\n",
        "def imprimir_matriz(mensaje1,matriz):\n",
        "    mensaje=mensaje1 + \"\\n\"+\"\\t\"\n",
        "    for i in range(len(matriz)):\n",
        "        for j in range(len(matriz[i])):\n",
        "            mensaje+=str(matriz[i][j])+ \"\\t\"\n",
        "        mensaje+=\"\\n\"+\"\\t\"\n",
        "    print(mensaje)\n",
        "#Iniciando  matrices\n",
        "matriz1=[[1,2],[5,3]]\n",
        "matriz2=[[4,5], [2,3]]\n",
        "filas=len(matriz1)\n",
        "columnas=len(matriz1[1])\n",
        "print(\"filas\",filas, \"columnas\", columnas)\n",
        "suma=[]\n",
        "for i in range(filas):\n",
        "    suma.append([0]*columnas)\n",
        "    for j in range(columnas):\n",
        "        suma[i][j]=matriz1[i][j]+matriz2[i][j]\n",
        "  #vamos a imprimir los resultados\n",
        "print(\"Resultados\")\n",
        "imprimir_matriz(\"Matriz 1:\",matriz1)\n",
        "imprimir_matriz(\"Matriz 2:\",matriz2)\n",
        "imprimir_matriz(\"Suma:\",suma)"
      ],
      "metadata": {
        "colab": {
          "base_uri": "https://localhost:8080/"
        },
        "id": "rggTQYOS1fYf",
        "outputId": "ecc0199d-c538-411f-fd34-c16564347d43"
      },
      "execution_count": 36,
      "outputs": [
        {
          "output_type": "stream",
          "name": "stdout",
          "text": [
            "filas 2 columnas 2\n",
            "Resultados\n",
            "Matriz 1:\n",
            "\t1\t2\t\n",
            "\t5\t3\t\n",
            "\t\n",
            "Matriz 2:\n",
            "\t4\t5\t\n",
            "\t2\t3\t\n",
            "\t\n",
            "Suma:\n",
            "\t5\t7\t\n",
            "\t7\t6\t\n",
            "\t\n"
          ]
        }
      ]
    }
  ]
}