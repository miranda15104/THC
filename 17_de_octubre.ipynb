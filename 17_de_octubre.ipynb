{
  "nbformat": 4,
  "nbformat_minor": 0,
  "metadata": {
    "colab": {
      "provenance": [],
      "authorship_tag": "ABX9TyPp+hVHQbLtRwnpQlFFIh9Z",
      "include_colab_link": true
    },
    "kernelspec": {
      "name": "python3",
      "display_name": "Python 3"
    },
    "language_info": {
      "name": "python"
    }
  },
  "cells": [
    {
      "cell_type": "markdown",
      "metadata": {
        "id": "view-in-github",
        "colab_type": "text"
      },
      "source": [
        "<a href=\"https://colab.research.google.com/github/miranda15104/THC/blob/main/17_de_octubre.ipynb\" target=\"_parent\"><img src=\"https://colab.research.google.com/assets/colab-badge.svg\" alt=\"Open In Colab\"/></a>"
      ]
    },
    {
      "cell_type": "markdown",
      "source": [
        "usamos HerramientasComputacionales/NivelIntermedio/Modulos_Y_Bibliotecas\n",
        "/Math.ipynb\n",
        "https://github.com/seismomat/HerramientasComputacionales/blob/main/NivelIntermedio/Modulos_Y_Bibliotecas/Math.ipynb"
      ],
      "metadata": {
        "id": "hXIIWssPzp7x"
      }
    },
    {
      "cell_type": "code",
      "execution_count": null,
      "metadata": {
        "colab": {
          "base_uri": "https://localhost:8080/"
        },
        "id": "nOfNTjqqzAhg",
        "outputId": "45d2c129-81f1-4cb8-f25d-3c8c5c5e0f85"
      },
      "outputs": [
        {
          "output_type": "stream",
          "name": "stdout",
          "text": [
            "False\n",
            "False\n",
            "False\n",
            "True\n",
            "False\n",
            "True\n",
            "True\n",
            "True\n"
          ]
        }
      ],
      "source": [
        "#libreria\n",
        "import math\n",
        "print(math.isinf(56))\n",
        "print(math.isinf(-45.34))\n",
        "print(math.isinf(+45.34))\n",
        "print(math.isinf(math.inf))\n",
        "print(math.isinf(float(\"nan\")))\n",
        "print(math.isinf(float(\"inf\")))\n",
        "print(math.isinf(float(\"-inf\")))\n",
        "print(math.isinf(-math.inf))"
      ]
    },
    {
      "cell_type": "code",
      "source": [
        "import math\n",
        "\n",
        "p = [3, 3]\n",
        "q = [6, 12]\n",
        "\n",
        "# Calculate Euclidean distance\n",
        "print (math.dist(p, q))"
      ],
      "metadata": {
        "colab": {
          "base_uri": "https://localhost:8080/"
        },
        "id": "uJV5BX8hzQNF",
        "outputId": "5a2bc4e0-0ab6-4cc2-823b-bdb647580402"
      },
      "execution_count": null,
      "outputs": [
        {
          "output_type": "stream",
          "name": "stdout",
          "text": [
            "9.486832980505138\n"
          ]
        }
      ]
    },
    {
      "cell_type": "markdown",
      "source": [
        "HerramientasComputacionales/NivelIntermedio/Modulos_Y_Bibliotecas\n",
        "/Random.ipynb\n",
        "\n",
        "https://github.com/seismomat/HerramientasComputacionales/blob/main/NivelIntermedio/Modulos_Y_Bibliotecas/Random.ipynb"
      ],
      "metadata": {
        "id": "IHqpSoa20OsA"
      }
    },
    {
      "cell_type": "code",
      "source": [
        "import random\n",
        "\n",
        "random.seed(10)\n",
        "print(random.random())"
      ],
      "metadata": {
        "colab": {
          "base_uri": "https://localhost:8080/"
        },
        "id": "PXkbqoxVzusg",
        "outputId": "2a191dc2-3b1a-4726-ba29-2dd93c4e4b54"
      },
      "execution_count": null,
      "outputs": [
        {
          "output_type": "stream",
          "name": "stdout",
          "text": [
            "0.5714025946899135\n"
          ]
        }
      ]
    },
    {
      "cell_type": "code",
      "source": [
        "import random\n",
        "print(random.randint(3,9))"
      ],
      "metadata": {
        "colab": {
          "base_uri": "https://localhost:8080/"
        },
        "id": "R1JxjUFT0i1B",
        "outputId": "e5f60880-e404-4bf0-c16a-9df5c548f3e4"
      },
      "execution_count": null,
      "outputs": [
        {
          "output_type": "stream",
          "name": "stdout",
          "text": [
            "6\n"
          ]
        }
      ]
    },
    {
      "cell_type": "code",
      "source": [
        "import random\n",
        "\n",
        "mylist = [\"apple\", \"banana\", \"cherry\"]\n",
        "\n",
        "print(random.choice(mylist))"
      ],
      "metadata": {
        "colab": {
          "base_uri": "https://localhost:8080/"
        },
        "id": "IM6dfBbN1GRw",
        "outputId": "6a3df384-e8dd-42a0-ed2f-fbccf684e06c"
      },
      "execution_count": null,
      "outputs": [
        {
          "output_type": "stream",
          "name": "stdout",
          "text": [
            "banana\n"
          ]
        }
      ]
    },
    {
      "cell_type": "code",
      "source": [
        "from re import A\n",
        "#ejercicio 1\n",
        "A=[[1,2,3],[4,5,6],[7,8,9]]\n",
        "B=[[10,11,12],[13,14,15],[16,17,18]]\n",
        "for i in range(len(A)):\n",
        "  print(A[0][i],A[1][i])\n",
        "for i in range(len(A)):\n",
        "  print(A[1][i])\n",
        "for i in range(len(A)):\n",
        "  print(A[2][i])\n",
        "for i in range(len(A)):\n",
        "  print(A[i][0])\n",
        "for i in range(len(A)):\n",
        "  print(A[i][1])\n",
        "for i in range(len(A)):\n",
        "  print(A[i][2])"
      ],
      "metadata": {
        "colab": {
          "base_uri": "https://localhost:8080/"
        },
        "id": "zq3pJC-c1_DY",
        "outputId": "ef8d11ad-fbe5-4b70-c83b-598bbbe2c14a"
      },
      "execution_count": null,
      "outputs": [
        {
          "output_type": "stream",
          "name": "stdout",
          "text": [
            "1\n",
            "2\n",
            "3\n",
            "4\n",
            "5\n",
            "6\n",
            "7\n",
            "8\n",
            "9\n",
            "1\n",
            "4\n",
            "7\n",
            "2\n",
            "5\n",
            "8\n",
            "3\n",
            "6\n",
            "9\n"
          ]
        }
      ]
    },
    {
      "cell_type": "code",
      "source": [
        "from re import A\n",
        "#ejercicio 1\n",
        "A=[[1,2,3],[4,5,6],[7,8,9]]\n",
        "B=[[10,11,12],[13,14,15],[16,17,18]]\n",
        "for i in range(len(A)):\n",
        "  for j in range(len(A)):\n",
        "    print(A[i][j])\n",
        "for i in range(len(A)):\n",
        "  for j in range(len(A)):\n",
        "    print(A[j][i])"
      ],
      "metadata": {
        "colab": {
          "base_uri": "https://localhost:8080/"
        },
        "id": "oOWXcpva71Z5",
        "outputId": "bd02f465-7699-413b-eb4a-99a39fe8ae7c"
      },
      "execution_count": null,
      "outputs": [
        {
          "output_type": "stream",
          "name": "stdout",
          "text": [
            "1\n",
            "2\n",
            "3\n",
            "4\n",
            "5\n",
            "6\n",
            "7\n",
            "8\n",
            "9\n",
            "1\n",
            "4\n",
            "7\n",
            "2\n",
            "5\n",
            "8\n",
            "3\n",
            "6\n",
            "9\n"
          ]
        }
      ]
    },
    {
      "cell_type": "code",
      "source": [
        "from re import A\n",
        "#ejercicio 1\n",
        "A=[[1,2,3],[4,5,6],[7,8,9]]\n",
        "B=[[10,11,12],[13,14,15],[16,17,18]]\n",
        "for j in range(len(A)):\n",
        "  for i in range(len(A)):\n",
        "    print(A[j][i])\n",
        "for i in range(len(A)):\n",
        "  for j in range(len(A)):\n",
        "    print(A[j][i])"
      ],
      "metadata": {
        "colab": {
          "base_uri": "https://localhost:8080/"
        },
        "id": "4-RLIwX2-c_m",
        "outputId": "ddef9bd8-8f1d-4cd8-c0c3-660b4a0545b1"
      },
      "execution_count": null,
      "outputs": [
        {
          "output_type": "stream",
          "name": "stdout",
          "text": [
            "1\n",
            "2\n",
            "3\n",
            "4\n",
            "5\n",
            "6\n",
            "7\n",
            "8\n",
            "9\n",
            "1\n",
            "4\n",
            "7\n",
            "2\n",
            "5\n",
            "8\n",
            "3\n",
            "6\n",
            "9\n"
          ]
        }
      ]
    },
    {
      "cell_type": "code",
      "source": [
        "from re import A\n",
        "#ejercicio 1\n",
        "A=[[1,2,3],[4,5,6],[7,8,9]]\n",
        "B=[[10,11,12],[13,14,15],[16,17,18]]\n",
        "for i in range(len(A)):\n",
        "  for j in range(len(A)):\n",
        "    print(A[i][j]+B[i][j])\n",
        "#for i in range(len(A)):\n",
        " # for j in range(len(A)):\n",
        "  #  print(A[j][i])"
      ],
      "metadata": {
        "colab": {
          "base_uri": "https://localhost:8080/"
        },
        "id": "o2ThMaBB_lVG",
        "outputId": "e5e4bec0-7e1e-4fd9-ccf2-54fe3f0a3301"
      },
      "execution_count": null,
      "outputs": [
        {
          "output_type": "stream",
          "name": "stdout",
          "text": [
            "11\n",
            "13\n",
            "15\n",
            "17\n",
            "19\n",
            "21\n",
            "23\n",
            "25\n",
            "27\n"
          ]
        }
      ]
    },
    {
      "cell_type": "code",
      "source": [
        "A=[[1,2,3],[4,5,6],[7,8,9]]\n",
        "B=[[10,11,12],[13,14,15],[16,17,18]]\n",
        "for i in range(len(A)):\n",
        "  for j in range(len(A)):\n",
        "    print(A[i][j]*B[i][j])\n"
      ],
      "metadata": {
        "colab": {
          "base_uri": "https://localhost:8080/"
        },
        "id": "sQjMxyknANVX",
        "outputId": "2f634ab7-93c1-4bb0-c7da-bb7946d6b29c"
      },
      "execution_count": null,
      "outputs": [
        {
          "output_type": "stream",
          "name": "stdout",
          "text": [
            "10\n",
            "22\n",
            "36\n",
            "52\n",
            "70\n",
            "90\n",
            "112\n",
            "136\n",
            "162\n"
          ]
        }
      ]
    },
    {
      "cell_type": "code",
      "source": [
        "L=[5,4,3,2,1]\n",
        "n=len(L)\n",
        "for i in range(n-1):\n",
        " if L[i]>L[i+1]:\n",
        "  print(L)\n",
        "  aux=L[i+1]\n",
        "  L[i+1]=L[i]\n",
        "  L[i]=aux\n",
        "  print(L)"
      ],
      "metadata": {
        "colab": {
          "base_uri": "https://localhost:8080/"
        },
        "id": "r07p2j8NBfAA",
        "outputId": "8295c452-9659-442c-c004-ecf50b51fa96"
      },
      "execution_count": null,
      "outputs": [
        {
          "output_type": "stream",
          "name": "stdout",
          "text": [
            "[5, 4, 3, 2, 1]\n",
            "[4, 5, 3, 2, 1]\n",
            "[4, 5, 3, 2, 1]\n",
            "[4, 3, 5, 2, 1]\n",
            "[4, 3, 5, 2, 1]\n",
            "[4, 3, 2, 5, 1]\n",
            "[4, 3, 2, 5, 1]\n",
            "[4, 3, 2, 1, 5]\n"
          ]
        }
      ]
    },
    {
      "cell_type": "code",
      "source": [
        "fruits = [\"apple\", \"banana\", \"cherry\"]\n",
        "for x in fruits:\n",
        "  if x == \"banana\":\n",
        "    continue\n",
        "  print(x)"
      ],
      "metadata": {
        "id": "NTrntCsQDjXf"
      },
      "execution_count": null,
      "outputs": []
    }
  ]
}