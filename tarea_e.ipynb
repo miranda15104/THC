{
  "nbformat": 4,
  "nbformat_minor": 0,
  "metadata": {
    "colab": {
      "provenance": [],
      "authorship_tag": "ABX9TyMNFtNmBltkRajfVY3dvPgJ",
      "include_colab_link": true
    },
    "kernelspec": {
      "name": "python3",
      "display_name": "Python 3"
    },
    "language_info": {
      "name": "python"
    }
  },
  "cells": [
    {
      "cell_type": "markdown",
      "metadata": {
        "id": "view-in-github",
        "colab_type": "text"
      },
      "source": [
        "<a href=\"https://colab.research.google.com/github/miranda15104/THC/blob/main/tarea_e.ipynb\" target=\"_parent\"><img src=\"https://colab.research.google.com/assets/colab-badge.svg\" alt=\"Open In Colab\"/></a>"
      ]
    },
    {
      "cell_type": "markdown",
      "source": [
        "\n",
        "1. Sumas de matrices rectangulares.\n",
        "2. Multiplicación entrada a entrada rectangulares.\n",
        "3. La traza.\n",
        "4. La transpuesta.\n",
        "5. El máximo y mínimo elemento en una matriz.\n",
        "6. La suma del cuadrado de los elementos de una matriz.\n",
        "7. La potencia de matrices."
      ],
      "metadata": {
        "id": "quQJBAgQb2Pg"
      }
    },
    {
      "cell_type": "code",
      "source": [
        "#1\n",
        "A=[[1,2],[4,5],[7,8]]\n",
        "B=[[1,1],[1,1],[1,1]]\n",
        "C=[[0,0],[0,0],[0,0]]\n",
        "for x in range(0,3):\n",
        "  for y in range(0,2):\n",
        "    C[x][y]= A[x][y]+ B[x][y]\n",
        "for x in range(0,3):\n",
        "      for y in range(0,2):\n",
        "            print(str(C[x][y]));\n",
        ""
      ],
      "metadata": {
        "colab": {
          "base_uri": "https://localhost:8080/"
        },
        "id": "Ie5A6TOb2VCL",
        "outputId": "7444a524-febc-4b98-8beb-4241869aff1a"
      },
      "execution_count": 12,
      "outputs": [
        {
          "output_type": "stream",
          "name": "stdout",
          "text": [
            "2\n",
            "3\n",
            "5\n",
            "6\n",
            "8\n",
            "9\n"
          ]
        }
      ]
    },
    {
      "cell_type": "code",
      "source": [
        "#2\n",
        "#1\n",
        "A=[[1,2],[4,5],[7,8]]\n",
        "B=[[1,1],[1,1],[1,1]]\n",
        "C=[[0,0],[0,0],[0,0]]\n",
        "for x in range(0,3):\n",
        "  for y in range(0,2):\n",
        "    C[x][y]= A[x][y]* B[x][y]\n",
        "for x in range(0,3):\n",
        "      for y in range(0,2):\n",
        "            print(str(C[x][y]));"
      ],
      "metadata": {
        "colab": {
          "base_uri": "https://localhost:8080/"
        },
        "id": "U8ub9V3yqJlf",
        "outputId": "203e1f09-ec87-4b6d-f2f7-6a14f251c4d4"
      },
      "execution_count": 13,
      "outputs": [
        {
          "output_type": "stream",
          "name": "stdout",
          "text": [
            "1\n",
            "2\n",
            "4\n",
            "5\n",
            "7\n",
            "8\n"
          ]
        }
      ]
    },
    {
      "cell_type": "code",
      "source": [
        "#3\n",
        "matriz = [[1, 2, 3], [4, 5, 6], [7, 8, 9]]\n",
        "def trazadeMatriz(matriz):\n",
        "    if len(matriz) != len(matriz[0]):\n",
        "       print(\"la matriz no es cuadrada\")\n",
        "\n",
        "    n = len(matriz)\n",
        "    traza = 0\n",
        "    i = 0\n",
        "\n",
        "    while i < n:\n",
        "        traza += matriz[i][i]\n",
        "        i += 1\n",
        "\n",
        "    return traza\n",
        "resultado = trazadeMatriz(matriz)\n",
        "\n",
        "if resultado is not None:\n",
        "    print(\"La traza de la matriz es:\", resultado)\n",
        "else:\n",
        "    print(\"La matriz no es cuadrada, por lo que no tiene traza.\")\n"
      ],
      "metadata": {
        "colab": {
          "base_uri": "https://localhost:8080/"
        },
        "id": "sWUPQ9hmohIo",
        "outputId": "0d02104e-9312-4230-e129-6a4082f6f5d0"
      },
      "execution_count": 21,
      "outputs": [
        {
          "output_type": "stream",
          "name": "stdout",
          "text": [
            "La traza de la matriz es: 15\n"
          ]
        }
      ]
    },
    {
      "cell_type": "code",
      "source": [
        "#4\n",
        "\n",
        "matriz = [[1, 2, 3], [4, 5, 6]]\n",
        "def matriz_transpuesta(matriz):\n",
        "    filas = len(matriz)\n",
        "    columnas = len(matriz[0])\n",
        "\n",
        "    # Crear una matriz sin valores para ahi guardar los nuevos\n",
        "    transpuesta = [[0] * filas for n in range(columnas)]\n",
        "\n",
        "    i = 0\n",
        "    while i < filas:\n",
        "        j = 0\n",
        "        while j < columnas:\n",
        "            transpuesta[j][i] = matriz[i][j]\n",
        "            j += 1\n",
        "        i += 1\n",
        "\n",
        "    return transpuesta\n",
        "\n",
        "\n",
        "\n",
        "\n",
        "resultado = matriz_transpuesta(matriz)\n",
        "\n",
        "for fila in resultado:\n",
        "    print(fila)\n"
      ],
      "metadata": {
        "colab": {
          "base_uri": "https://localhost:8080/"
        },
        "id": "agcXvjOUo838",
        "outputId": "4059c9e1-9acf-43c1-f041-811a8c48933d"
      },
      "execution_count": 1,
      "outputs": [
        {
          "output_type": "stream",
          "name": "stdout",
          "text": [
            "[1, 4]\n",
            "[2, 5]\n",
            "[3, 6]\n"
          ]
        }
      ]
    },
    {
      "cell_type": "code",
      "source": [
        "#5\n",
        "matriz = [\n",
        "    [9, 3, 1, 7, 9],\n",
        "    [12, 20, 17, 4, 15],\n",
        "    [6, 10, 5, 19, 9],\n",
        "]\n",
        "mayor = matriz[0][0]\n",
        "menor = matriz[0][0]\n",
        "for fila in matriz:\n",
        "    for valor in fila:\n",
        "        if valor > mayor:\n",
        "            mayor = valor\n",
        "        if valor < menor:\n",
        "            menor = valor\n",
        "\n",
        "print(\"De la matriz: \")\n",
        "print(matriz)\n",
        "print(f\"El menor es {menor} y el mayor es {mayor}\")"
      ],
      "metadata": {
        "colab": {
          "base_uri": "https://localhost:8080/"
        },
        "id": "EI47piabt9O-",
        "outputId": "4e9adce2-0420-4d26-d972-a1b6cd284611"
      },
      "execution_count": 5,
      "outputs": [
        {
          "output_type": "stream",
          "name": "stdout",
          "text": [
            "De la matriz: \n",
            "[[9, 3, 1, 7, 9], [12, 20, 17, 4, 15], [6, 10, 5, 19, 9]]\n",
            "El menor es 1 y el mayor es 20\n"
          ]
        }
      ]
    },
    {
      "cell_type": "code",
      "source": [
        "#6\n",
        "matriz = [[1, 2, 3], [4, 5, 6], [7, 8, 9]]\n",
        "def sumaCuadradosMatriz(matriz):\n",
        "    suma = 0\n",
        "    filas = len(matriz)\n",
        "    columnas = len(matriz[0])\n",
        "\n",
        "    for i in range(filas):\n",
        "        for j in range(columnas):\n",
        "            elemento = matriz[i][j]\n",
        "            suma += elemento ** 2\n",
        "\n",
        "    return suma\n",
        "\n",
        "\n",
        "resultado = sumaCuadradosMatriz(matriz)\n",
        "\n",
        "print(\"La suma de los cuadrados de los elementos de la matriz es:\", resultado)"
      ],
      "metadata": {
        "colab": {
          "base_uri": "https://localhost:8080/"
        },
        "id": "08jPJLw-vFEj",
        "outputId": "27254345-66b4-4adc-cfaa-ecc1e657ef77"
      },
      "execution_count": 7,
      "outputs": [
        {
          "output_type": "stream",
          "name": "stdout",
          "text": [
            "La suma de los cuadrados de los elementos de la matriz es: 285\n"
          ]
        }
      ]
    },
    {
      "cell_type": "code",
      "source": [
        "#7\n",
        "matriz = [[1, 2], [3, 4]]\n",
        "exponente = 3\n",
        "def elevarMatrizaPotencia(matriz, exponente):\n",
        "    filas = len(matriz)\n",
        "    columnas = len(matriz[0])\n",
        "\n",
        "    resultado = []\n",
        "\n",
        "    for i in range(filas):\n",
        "        fila = []\n",
        "        for j in range(columnas):\n",
        "            elemento = matriz[i][j]\n",
        "            resultado_elemento = elemento ** exponente\n",
        "            fila.append(resultado_elemento)\n",
        "        resultado.append(fila)\n",
        "\n",
        "    return resultado\n",
        "\n",
        "\n",
        "resultado = elevarMatrizaPotencia(matriz, exponente)\n",
        "\n",
        "for fila in resultado:\n",
        "    print(fila)"
      ],
      "metadata": {
        "colab": {
          "base_uri": "https://localhost:8080/"
        },
        "id": "2x96XIL8bGhe",
        "outputId": "0e0291fd-33cf-48b2-9adb-b861c62b9469"
      },
      "execution_count": 9,
      "outputs": [
        {
          "output_type": "stream",
          "name": "stdout",
          "text": [
            "[1, 8]\n",
            "[27, 64]\n"
          ]
        }
      ]
    }
  ]
}