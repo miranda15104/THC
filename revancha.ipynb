{
  "nbformat": 4,
  "nbformat_minor": 0,
  "metadata": {
    "colab": {
      "provenance": [],
      "authorship_tag": "ABX9TyOCjJKYlgQHC9XkSvt5muCH",
      "include_colab_link": true
    },
    "kernelspec": {
      "name": "python3",
      "display_name": "Python 3"
    },
    "language_info": {
      "name": "python"
    }
  },
  "cells": [
    {
      "cell_type": "markdown",
      "metadata": {
        "id": "view-in-github",
        "colab_type": "text"
      },
      "source": [
        "<a href=\"https://colab.research.google.com/github/miranda15104/THC/blob/main/revancha.ipynb\" target=\"_parent\"><img src=\"https://colab.research.google.com/assets/colab-badge.svg\" alt=\"Open In Colab\"/></a>"
      ]
    },
    {
      "cell_type": "code",
      "execution_count": 4,
      "metadata": {
        "colab": {
          "base_uri": "https://localhost:8080/"
        },
        "id": "aDq8cBdrI3ta",
        "outputId": "29edde36-496e-462d-dce2-385cf837b5b9"
      },
      "outputs": [
        {
          "output_type": "stream",
          "name": "stdout",
          "text": [
            "Ingrese la hora actual en Ciudad de México (formato 24 horas): 15\n",
            "\n",
            "Hora en Ciudad de México: 15:00\n",
            "\n",
            "Hora en Tokio: 05:00\n",
            "Hora en Pekin: 04:00\n",
            "Hora en Dusambé: 02:00\n",
            "Hora en Perth: 05:00\n",
            "Hora en Katmandu: 03:00\n",
            "Hora en Vilna: 23:00\n",
            "Hora en Freetown: 15:00\n",
            "Hora en Rio_de_Janeiro: 17:00\n",
            "Hora en Tegucigalpa: 14:00\n",
            "Hora en Kingston: 14:00\n",
            "Hora en Los_Angeles: 13:00\n"
          ]
        }
      ],
      "source": [
        "# Diccionario con las diferencias horarias en relación con la Ciudad de México, solo puse la ciudad\n",
        "diferencias_horarias = {\n",
        "    'Tokio': 14,\n",
        "    'Pekin': 13,\n",
        "    'Dusambé': 11,\n",
        "    'Perth': 14,\n",
        "    'Katmandu': 12,\n",
        "    'Vilna': 8,\n",
        "    'Freetown': 0,\n",
        "    'Rio_de_Janeiro': 2,\n",
        "    'Tegucigalpa': -1,\n",
        "    'Kingston': -1,\n",
        "    'Los_Angeles': -2\n",
        "}\n",
        "\n",
        "# Función para obtener la hora en una ciudad\n",
        "obtener_hora_ciudad = lambda ciudad, hora_mexico: (hora_mexico + diferencias_horarias[ciudad]) % 24\n",
        "\n",
        "# Obtener la hora actual en la Ciudad de México desde el usuario, en formato de 24 hrs\n",
        "try:\n",
        "    hora_mexico = int(input(\"Ingrese la hora actual en Ciudad de México (formato 24 horas): \"))\n",
        "except ValueError:\n",
        "    print(\"Por favor, ingrese un número entero para la hora.\")\n",
        "    exit()\n",
        "\n",
        "# Validar que la hora ingresada sea un número válido\n",
        "if 0 <= hora_mexico <= 23:\n",
        "    # Imprimir la hora actual en la Cdmx\n",
        "    print(f'\\nHora en Ciudad de México: {hora_mexico:02d}:00\\n')\n",
        "\n",
        "    # Mostrar la hora en las ciudades especificadas\n",
        "    for ciudad in diferencias_horarias:\n",
        "        hora_ciudad = obtener_hora_ciudad(ciudad, hora_mexico)\n",
        "        print(f'Hora en {ciudad}: {hora_ciudad:02d}:00')\n",
        "else:\n",
        "    print(\"Por favor, ingrese una hora válida (entre 0 y 23).\")\n"
      ]
    },
    {
      "cell_type": "code",
      "source": [
        "import random #para que elija resultados aleatorios\n",
        "#definicmos que puede escoger el usuario\n",
        "opcion_usuario = input(\"Elige piedra, papel o tijeras \").lower()\n",
        "def jugar_piedra_papel_tijeras(opcion_usuario):\n",
        "    opciones = [\"piedra\", \"papel\", \"tijeras\"] #defunimos nuestros resultados\n",
        "    opcion_computadora = random.choice(opciones) #de esos va a escojer\n",
        "#mostramos que escogio y que escogio la maquina\n",
        "    print(f\"tu opción fue: {opcion_usuario}\")\n",
        "    print(f\"La computadora ha eligido: {opcion_computadora}\")\n",
        "\n",
        "    if opcion_usuario == opcion_computadora:\n",
        "        return \"Empate\"\n",
        "    elif (\n",
        "        (opcion_usuario == \"piedra\" and opcion_computadora == \"tijeras\") or\n",
        "        (opcion_usuario == \"papel\" and opcion_computadora == \"piedra\") or\n",
        "        (opcion_usuario == \"tijeras\" and opcion_computadora == \"papel\")\n",
        "    ):\n",
        "        return \"Victoria para ti \"\n",
        "    else:\n",
        "        return \"¡Perdiste!\"\n",
        "\n",
        "\n",
        "\n",
        "#para imprimir los resultados y un if para que escoja y si llega a escoger algo que no esta definido\n",
        "if opcion_usuario in [\"piedra\", \"papel\", \"tijeras\"]:\n",
        "    resultado = jugar_piedra_papel_tijeras(opcion_usuario)\n",
        "    print(resultado)\n",
        "else:\n",
        "    print(\"Opción inválida. Debes elegir entre piedra, papel o tijeras.\")\n"
      ],
      "metadata": {
        "colab": {
          "base_uri": "https://localhost:8080/"
        },
        "id": "lzhqeLxzMFCe",
        "outputId": "b30c10ab-6a39-4eb2-c47c-474b9f4ab9ba"
      },
      "execution_count": 5,
      "outputs": [
        {
          "output_type": "stream",
          "name": "stdout",
          "text": [
            "Elige piedra, papel o tijeras tijeras\n",
            "tu opción fue: tijeras\n",
            "La computadora ha eligido: tijeras\n",
            "Empate\n"
          ]
        }
      ]
    },
    {
      "cell_type": "code",
      "source": [
        "import random  #para que elija resultados aleatorios\n",
        "\n",
        "def jugar_dados():\n",
        "    while True:\n",
        "\n",
        "        resultado_dado = random.randint(1, 7) #estos seran nuestro posibles resultados\n",
        "\n",
        "        # Mostrar el resultado del lanzamiento\n",
        "        print(f\"Resultado del dado: {resultado_dado}\")\n",
        "\n",
        "        #evaluamos el resultado e imprimimos el mensaje\n",
        "        if resultado_dado == 1:\n",
        "            print(\"Sale 1. ¡Vuelven a lanzar!\")\n",
        "        elif resultado_dado == 6:\n",
        "            print(\"Sale 6. ¡Quedan empatados!\")\n",
        "            break  # Salir del bucle si sale 6\n",
        "        elif resultado_dado in (2, 3):\n",
        "            print(\"Sale 2 o 3. ¡Gana Iván!\")\n",
        "            break  # Salir del bucle si sale 2 o 3\n",
        "        elif resultado_dado in (4, 5):\n",
        "            print(\"Sale 4 o 5. ¡Gana Miguel!\")\n",
        "            break  # Salir del bucle si sale 4 o 5\n",
        "\n",
        "\n",
        "jugar_dados()\n"
      ],
      "metadata": {
        "colab": {
          "base_uri": "https://localhost:8080/"
        },
        "id": "6fKhWdtnN9Me",
        "outputId": "0a203b75-c5f0-48dc-ddad-17d529827810"
      },
      "execution_count": null,
      "outputs": [
        {
          "output_type": "stream",
          "name": "stdout",
          "text": [
            "Resultado del dado: 5\n",
            "Sale 4 o 5. ¡Gana Miguel!\n"
          ]
        }
      ]
    }
  ]
}